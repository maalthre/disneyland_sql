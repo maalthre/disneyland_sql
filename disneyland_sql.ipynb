{
  "nbformat": 4,
  "nbformat_minor": 0,
  "metadata": {
    "colab": {
      "provenance": []
    },
    "kernelspec": {
      "name": "python3",
      "display_name": "Python 3"
    },
    "language_info": {
      "name": "python"
    }
  },
  "cells": [
    {
      "cell_type": "markdown",
      "source": [
        "# 🐭🏰 Disneyland Review Analysis in SQL"
      ],
      "metadata": {
        "id": "8xu10uGXrQRc"
      }
    },
    {
      "cell_type": "code",
      "execution_count": 17,
      "metadata": {
        "id": "HePNoyMWR9Tn"
      },
      "outputs": [],
      "source": [
        "# Import necessary libraries\n",
        "import pandas as pd\n",
        "from pyspark.sql import SparkSession"
      ]
    },
    {
      "cell_type": "markdown",
      "source": [
        "## 📥 Load/Read the Data\n",
        "\n",
        "\n",
        "\n",
        "\n",
        "\n",
        "\n"
      ],
      "metadata": {
        "id": "FHTEyWT8s53p"
      }
    },
    {
      "cell_type": "code",
      "source": [
        "# Read the csv\n",
        "df = pd.read_csv(\"DisneylandReviews.csv\", encoding='latin-1')"
      ],
      "metadata": {
        "id": "jEuG3oopSSYn"
      },
      "execution_count": 18,
      "outputs": []
    },
    {
      "cell_type": "code",
      "source": [
        "# Preview the dataset\n",
        "df.head()"
      ],
      "metadata": {
        "colab": {
          "base_uri": "https://localhost:8080/",
          "height": 293
        },
        "id": "-j3zAnbsStCD",
        "outputId": "8b297555-b724-4454-c7d2-054378d8844d"
      },
      "execution_count": 19,
      "outputs": [
        {
          "output_type": "execute_result",
          "data": {
            "text/plain": [
              "   Review_ID  Rating Year_Month     Reviewer_Location  \\\n",
              "0  670772142       4     2019-4             Australia   \n",
              "1  670682799       4     2019-5           Philippines   \n",
              "2  670623270       4     2019-4  United Arab Emirates   \n",
              "3  670607911       4     2019-4             Australia   \n",
              "4  670607296       4     2019-4        United Kingdom   \n",
              "\n",
              "                                         Review_Text               Branch  \n",
              "0  If you've ever been to Disneyland anywhere you...  Disneyland_HongKong  \n",
              "1  Its been a while since d last time we visit HK...  Disneyland_HongKong  \n",
              "2  Thanks God it wasn   t too hot or too humid wh...  Disneyland_HongKong  \n",
              "3  HK Disneyland is a great compact park. Unfortu...  Disneyland_HongKong  \n",
              "4  the location is not in the city, took around 1...  Disneyland_HongKong  "
            ],
            "text/html": [
              "\n",
              "  <div id=\"df-9b2ee37b-46fa-4c55-a993-df409d31a49c\" class=\"colab-df-container\">\n",
              "    <div>\n",
              "<style scoped>\n",
              "    .dataframe tbody tr th:only-of-type {\n",
              "        vertical-align: middle;\n",
              "    }\n",
              "\n",
              "    .dataframe tbody tr th {\n",
              "        vertical-align: top;\n",
              "    }\n",
              "\n",
              "    .dataframe thead th {\n",
              "        text-align: right;\n",
              "    }\n",
              "</style>\n",
              "<table border=\"1\" class=\"dataframe\">\n",
              "  <thead>\n",
              "    <tr style=\"text-align: right;\">\n",
              "      <th></th>\n",
              "      <th>Review_ID</th>\n",
              "      <th>Rating</th>\n",
              "      <th>Year_Month</th>\n",
              "      <th>Reviewer_Location</th>\n",
              "      <th>Review_Text</th>\n",
              "      <th>Branch</th>\n",
              "    </tr>\n",
              "  </thead>\n",
              "  <tbody>\n",
              "    <tr>\n",
              "      <th>0</th>\n",
              "      <td>670772142</td>\n",
              "      <td>4</td>\n",
              "      <td>2019-4</td>\n",
              "      <td>Australia</td>\n",
              "      <td>If you've ever been to Disneyland anywhere you...</td>\n",
              "      <td>Disneyland_HongKong</td>\n",
              "    </tr>\n",
              "    <tr>\n",
              "      <th>1</th>\n",
              "      <td>670682799</td>\n",
              "      <td>4</td>\n",
              "      <td>2019-5</td>\n",
              "      <td>Philippines</td>\n",
              "      <td>Its been a while since d last time we visit HK...</td>\n",
              "      <td>Disneyland_HongKong</td>\n",
              "    </tr>\n",
              "    <tr>\n",
              "      <th>2</th>\n",
              "      <td>670623270</td>\n",
              "      <td>4</td>\n",
              "      <td>2019-4</td>\n",
              "      <td>United Arab Emirates</td>\n",
              "      <td>Thanks God it wasn   t too hot or too humid wh...</td>\n",
              "      <td>Disneyland_HongKong</td>\n",
              "    </tr>\n",
              "    <tr>\n",
              "      <th>3</th>\n",
              "      <td>670607911</td>\n",
              "      <td>4</td>\n",
              "      <td>2019-4</td>\n",
              "      <td>Australia</td>\n",
              "      <td>HK Disneyland is a great compact park. Unfortu...</td>\n",
              "      <td>Disneyland_HongKong</td>\n",
              "    </tr>\n",
              "    <tr>\n",
              "      <th>4</th>\n",
              "      <td>670607296</td>\n",
              "      <td>4</td>\n",
              "      <td>2019-4</td>\n",
              "      <td>United Kingdom</td>\n",
              "      <td>the location is not in the city, took around 1...</td>\n",
              "      <td>Disneyland_HongKong</td>\n",
              "    </tr>\n",
              "  </tbody>\n",
              "</table>\n",
              "</div>\n",
              "    <div class=\"colab-df-buttons\">\n",
              "\n",
              "  <div class=\"colab-df-container\">\n",
              "    <button class=\"colab-df-convert\" onclick=\"convertToInteractive('df-9b2ee37b-46fa-4c55-a993-df409d31a49c')\"\n",
              "            title=\"Convert this dataframe to an interactive table.\"\n",
              "            style=\"display:none;\">\n",
              "\n",
              "  <svg xmlns=\"http://www.w3.org/2000/svg\" height=\"24px\" viewBox=\"0 -960 960 960\">\n",
              "    <path d=\"M120-120v-720h720v720H120Zm60-500h600v-160H180v160Zm220 220h160v-160H400v160Zm0 220h160v-160H400v160ZM180-400h160v-160H180v160Zm440 0h160v-160H620v160ZM180-180h160v-160H180v160Zm440 0h160v-160H620v160Z\"/>\n",
              "  </svg>\n",
              "    </button>\n",
              "\n",
              "  <style>\n",
              "    .colab-df-container {\n",
              "      display:flex;\n",
              "      gap: 12px;\n",
              "    }\n",
              "\n",
              "    .colab-df-convert {\n",
              "      background-color: #E8F0FE;\n",
              "      border: none;\n",
              "      border-radius: 50%;\n",
              "      cursor: pointer;\n",
              "      display: none;\n",
              "      fill: #1967D2;\n",
              "      height: 32px;\n",
              "      padding: 0 0 0 0;\n",
              "      width: 32px;\n",
              "    }\n",
              "\n",
              "    .colab-df-convert:hover {\n",
              "      background-color: #E2EBFA;\n",
              "      box-shadow: 0px 1px 2px rgba(60, 64, 67, 0.3), 0px 1px 3px 1px rgba(60, 64, 67, 0.15);\n",
              "      fill: #174EA6;\n",
              "    }\n",
              "\n",
              "    .colab-df-buttons div {\n",
              "      margin-bottom: 4px;\n",
              "    }\n",
              "\n",
              "    [theme=dark] .colab-df-convert {\n",
              "      background-color: #3B4455;\n",
              "      fill: #D2E3FC;\n",
              "    }\n",
              "\n",
              "    [theme=dark] .colab-df-convert:hover {\n",
              "      background-color: #434B5C;\n",
              "      box-shadow: 0px 1px 3px 1px rgba(0, 0, 0, 0.15);\n",
              "      filter: drop-shadow(0px 1px 2px rgba(0, 0, 0, 0.3));\n",
              "      fill: #FFFFFF;\n",
              "    }\n",
              "  </style>\n",
              "\n",
              "    <script>\n",
              "      const buttonEl =\n",
              "        document.querySelector('#df-9b2ee37b-46fa-4c55-a993-df409d31a49c button.colab-df-convert');\n",
              "      buttonEl.style.display =\n",
              "        google.colab.kernel.accessAllowed ? 'block' : 'none';\n",
              "\n",
              "      async function convertToInteractive(key) {\n",
              "        const element = document.querySelector('#df-9b2ee37b-46fa-4c55-a993-df409d31a49c');\n",
              "        const dataTable =\n",
              "          await google.colab.kernel.invokeFunction('convertToInteractive',\n",
              "                                                    [key], {});\n",
              "        if (!dataTable) return;\n",
              "\n",
              "        const docLinkHtml = 'Like what you see? Visit the ' +\n",
              "          '<a target=\"_blank\" href=https://colab.research.google.com/notebooks/data_table.ipynb>data table notebook</a>'\n",
              "          + ' to learn more about interactive tables.';\n",
              "        element.innerHTML = '';\n",
              "        dataTable['output_type'] = 'display_data';\n",
              "        await google.colab.output.renderOutput(dataTable, element);\n",
              "        const docLink = document.createElement('div');\n",
              "        docLink.innerHTML = docLinkHtml;\n",
              "        element.appendChild(docLink);\n",
              "      }\n",
              "    </script>\n",
              "  </div>\n",
              "\n",
              "\n",
              "<div id=\"df-796f8ed5-c8a0-4971-983a-93bbe83ddf17\">\n",
              "  <button class=\"colab-df-quickchart\" onclick=\"quickchart('df-796f8ed5-c8a0-4971-983a-93bbe83ddf17')\"\n",
              "            title=\"Suggest charts\"\n",
              "            style=\"display:none;\">\n",
              "\n",
              "<svg xmlns=\"http://www.w3.org/2000/svg\" height=\"24px\"viewBox=\"0 0 24 24\"\n",
              "     width=\"24px\">\n",
              "    <g>\n",
              "        <path d=\"M19 3H5c-1.1 0-2 .9-2 2v14c0 1.1.9 2 2 2h14c1.1 0 2-.9 2-2V5c0-1.1-.9-2-2-2zM9 17H7v-7h2v7zm4 0h-2V7h2v10zm4 0h-2v-4h2v4z\"/>\n",
              "    </g>\n",
              "</svg>\n",
              "  </button>\n",
              "\n",
              "<style>\n",
              "  .colab-df-quickchart {\n",
              "      --bg-color: #E8F0FE;\n",
              "      --fill-color: #1967D2;\n",
              "      --hover-bg-color: #E2EBFA;\n",
              "      --hover-fill-color: #174EA6;\n",
              "      --disabled-fill-color: #AAA;\n",
              "      --disabled-bg-color: #DDD;\n",
              "  }\n",
              "\n",
              "  [theme=dark] .colab-df-quickchart {\n",
              "      --bg-color: #3B4455;\n",
              "      --fill-color: #D2E3FC;\n",
              "      --hover-bg-color: #434B5C;\n",
              "      --hover-fill-color: #FFFFFF;\n",
              "      --disabled-bg-color: #3B4455;\n",
              "      --disabled-fill-color: #666;\n",
              "  }\n",
              "\n",
              "  .colab-df-quickchart {\n",
              "    background-color: var(--bg-color);\n",
              "    border: none;\n",
              "    border-radius: 50%;\n",
              "    cursor: pointer;\n",
              "    display: none;\n",
              "    fill: var(--fill-color);\n",
              "    height: 32px;\n",
              "    padding: 0;\n",
              "    width: 32px;\n",
              "  }\n",
              "\n",
              "  .colab-df-quickchart:hover {\n",
              "    background-color: var(--hover-bg-color);\n",
              "    box-shadow: 0 1px 2px rgba(60, 64, 67, 0.3), 0 1px 3px 1px rgba(60, 64, 67, 0.15);\n",
              "    fill: var(--button-hover-fill-color);\n",
              "  }\n",
              "\n",
              "  .colab-df-quickchart-complete:disabled,\n",
              "  .colab-df-quickchart-complete:disabled:hover {\n",
              "    background-color: var(--disabled-bg-color);\n",
              "    fill: var(--disabled-fill-color);\n",
              "    box-shadow: none;\n",
              "  }\n",
              "\n",
              "  .colab-df-spinner {\n",
              "    border: 2px solid var(--fill-color);\n",
              "    border-color: transparent;\n",
              "    border-bottom-color: var(--fill-color);\n",
              "    animation:\n",
              "      spin 1s steps(1) infinite;\n",
              "  }\n",
              "\n",
              "  @keyframes spin {\n",
              "    0% {\n",
              "      border-color: transparent;\n",
              "      border-bottom-color: var(--fill-color);\n",
              "      border-left-color: var(--fill-color);\n",
              "    }\n",
              "    20% {\n",
              "      border-color: transparent;\n",
              "      border-left-color: var(--fill-color);\n",
              "      border-top-color: var(--fill-color);\n",
              "    }\n",
              "    30% {\n",
              "      border-color: transparent;\n",
              "      border-left-color: var(--fill-color);\n",
              "      border-top-color: var(--fill-color);\n",
              "      border-right-color: var(--fill-color);\n",
              "    }\n",
              "    40% {\n",
              "      border-color: transparent;\n",
              "      border-right-color: var(--fill-color);\n",
              "      border-top-color: var(--fill-color);\n",
              "    }\n",
              "    60% {\n",
              "      border-color: transparent;\n",
              "      border-right-color: var(--fill-color);\n",
              "    }\n",
              "    80% {\n",
              "      border-color: transparent;\n",
              "      border-right-color: var(--fill-color);\n",
              "      border-bottom-color: var(--fill-color);\n",
              "    }\n",
              "    90% {\n",
              "      border-color: transparent;\n",
              "      border-bottom-color: var(--fill-color);\n",
              "    }\n",
              "  }\n",
              "</style>\n",
              "\n",
              "  <script>\n",
              "    async function quickchart(key) {\n",
              "      const quickchartButtonEl =\n",
              "        document.querySelector('#' + key + ' button');\n",
              "      quickchartButtonEl.disabled = true;  // To prevent multiple clicks.\n",
              "      quickchartButtonEl.classList.add('colab-df-spinner');\n",
              "      try {\n",
              "        const charts = await google.colab.kernel.invokeFunction(\n",
              "            'suggestCharts', [key], {});\n",
              "      } catch (error) {\n",
              "        console.error('Error during call to suggestCharts:', error);\n",
              "      }\n",
              "      quickchartButtonEl.classList.remove('colab-df-spinner');\n",
              "      quickchartButtonEl.classList.add('colab-df-quickchart-complete');\n",
              "    }\n",
              "    (() => {\n",
              "      let quickchartButtonEl =\n",
              "        document.querySelector('#df-796f8ed5-c8a0-4971-983a-93bbe83ddf17 button');\n",
              "      quickchartButtonEl.style.display =\n",
              "        google.colab.kernel.accessAllowed ? 'block' : 'none';\n",
              "    })();\n",
              "  </script>\n",
              "</div>\n",
              "\n",
              "    </div>\n",
              "  </div>\n"
            ],
            "application/vnd.google.colaboratory.intrinsic+json": {
              "type": "dataframe",
              "variable_name": "df",
              "summary": "{\n  \"name\": \"df\",\n  \"rows\": 42656,\n  \"fields\": [\n    {\n      \"column\": \"Review_ID\",\n      \"properties\": {\n        \"dtype\": \"number\",\n        \"std\": 165709224,\n        \"min\": 1398724,\n        \"max\": 670801367,\n        \"num_unique_values\": 42636,\n        \"samples\": [\n          443940017,\n          289625345,\n          143729284\n        ],\n        \"semantic_type\": \"\",\n        \"description\": \"\"\n      }\n    },\n    {\n      \"column\": \"Rating\",\n      \"properties\": {\n        \"dtype\": \"number\",\n        \"std\": 1,\n        \"min\": 1,\n        \"max\": 5,\n        \"num_unique_values\": 5,\n        \"samples\": [\n          3,\n          1,\n          5\n        ],\n        \"semantic_type\": \"\",\n        \"description\": \"\"\n      }\n    },\n    {\n      \"column\": \"Year_Month\",\n      \"properties\": {\n        \"dtype\": \"category\",\n        \"num_unique_values\": 112,\n        \"samples\": [\n          \"2016-2\",\n          \"2014-1\",\n          \"2019-1\"\n        ],\n        \"semantic_type\": \"\",\n        \"description\": \"\"\n      }\n    },\n    {\n      \"column\": \"Reviewer_Location\",\n      \"properties\": {\n        \"dtype\": \"category\",\n        \"num_unique_values\": 162,\n        \"samples\": [\n          \"El Salvador\",\n          \"South Sudan\",\n          \"Honduras\"\n        ],\n        \"semantic_type\": \"\",\n        \"description\": \"\"\n      }\n    },\n    {\n      \"column\": \"Review_Text\",\n      \"properties\": {\n        \"dtype\": \"string\",\n        \"num_unique_values\": 42632,\n        \"samples\": [\n          \"take a child with you to see their excitement. I had my 4 yr old grandson to see how they enjoyed. there are any number of locations to spend the whole day. time passes to the night until the fireworks ending the show.\",\n          \"If you can get discount tickets do your best to do that. The weekdays are the best to go as they're not as crowded. Get fast passes for the rides that offer it. The workers are really nice. One of the workers on Nemo overheard it was my daughter's 3rd birthday. She asked why she didn't have a birthday button and I said I didn't know about them. When we got off the ride she had one waiting for us and put my daughter's name on it. It was really special.\",\n          \"As always the great joy for the kids makes up for the ridiculously high costs of food and drink! Still a winner for the kids   our 3 year old grandson and our 25 year old daughter and her husband. Fast pass is a must if you don't want to queue for hours. But rides deliver and staff were I have no idea how! The food and drinks are atrociously expensive and the food inside is dreadful. Dinner at Pirates of the Caribbean was 2.5 hours of misery, warm food and dreadful service. How do they get it so wrong. Eat in the village just outside the park so much better! \"\n        ],\n        \"semantic_type\": \"\",\n        \"description\": \"\"\n      }\n    },\n    {\n      \"column\": \"Branch\",\n      \"properties\": {\n        \"dtype\": \"category\",\n        \"num_unique_values\": 3,\n        \"samples\": [\n          \"Disneyland_HongKong\",\n          \"Disneyland_California\",\n          \"Disneyland_Paris\"\n        ],\n        \"semantic_type\": \"\",\n        \"description\": \"\"\n      }\n    }\n  ]\n}"
            }
          },
          "metadata": {},
          "execution_count": 19
        }
      ]
    },
    {
      "cell_type": "markdown",
      "source": [
        "## 📊 Set Up PySpark for SQL\n",
        "\n"
      ],
      "metadata": {
        "id": "7xWKevwnrhhm"
      }
    },
    {
      "cell_type": "markdown",
      "source": [
        "The pyspark.sql module in PySpark is a tool for working with structured data . It allows a me to run SQL-like queries on my data."
      ],
      "metadata": {
        "id": "qnQVsT4AsG6t"
      }
    },
    {
      "cell_type": "code",
      "source": [
        "# Create Spark Session\n",
        "spark = SparkSession.builder.master(\"local[*]\").appName(\"ReviewAnalysis\").getOrCreate()"
      ],
      "metadata": {
        "id": "yKa7SbJFTuAN"
      },
      "execution_count": 20,
      "outputs": []
    },
    {
      "cell_type": "code",
      "source": [
        "# Pandas DataFrame to a Spark DataFrame\n",
        "spark_df = spark.createDataFrame(df)"
      ],
      "metadata": {
        "id": "fYrlp4JEUJTb"
      },
      "execution_count": 21,
      "outputs": []
    },
    {
      "cell_type": "code",
      "source": [
        "# Create a SQL table called \"reviews\"\n",
        "spark_df.createOrReplaceTempView(\"reviews\")"
      ],
      "metadata": {
        "id": "pGOa2-ueUSxB"
      },
      "execution_count": 22,
      "outputs": []
    },
    {
      "cell_type": "markdown",
      "source": [
        "## 🔍 Queries"
      ],
      "metadata": {
        "id": "aEeIxX9IUryN"
      }
    },
    {
      "cell_type": "markdown",
      "source": [
        "### 1) Which Branch Has the Highest Average Rating?\n"
      ],
      "metadata": {
        "id": "k3hUwTFZuGJ7"
      }
    },
    {
      "cell_type": "code",
      "source": [
        "spark.sql(\"\"\"\n",
        "SELECT Branch, ROUND(AVG(Rating), 2) AS Avg_Rating\n",
        "FROM reviews\n",
        "GROUP BY Branch\n",
        "ORDER BY Avg_Rating DESC\n",
        "\"\"\").show()"
      ],
      "metadata": {
        "colab": {
          "base_uri": "https://localhost:8080/"
        },
        "id": "2VnCX1K6UmUc",
        "outputId": "bcfa0984-fbfb-465c-b0d4-a59fd0be8cda"
      },
      "execution_count": 23,
      "outputs": [
        {
          "output_type": "stream",
          "name": "stdout",
          "text": [
            "+--------------------+----------+\n",
            "|              Branch|Avg_Rating|\n",
            "+--------------------+----------+\n",
            "|Disneyland_Califo...|      4.41|\n",
            "| Disneyland_HongKong|       4.2|\n",
            "|    Disneyland_Paris|      3.96|\n",
            "+--------------------+----------+\n",
            "\n"
          ]
        }
      ]
    },
    {
      "cell_type": "markdown",
      "source": [
        "Disneyland California holds the highest average rating at 4.41, indicating strong visitor satisfaction and a positive overall experience. Disneyland Hong Kong follows with a solid 4.2 rating, showing generally favorable feedback but slightly trailing behind California. Disneyland Paris has the lowest average rating at 3.96, suggesting a decent but comparatively lower level of visitor satisfaction. Overall, Disneyland California appears to offer the most well-received experience, while Disneyland Paris may have opportunities for improvement."
      ],
      "metadata": {
        "id": "l0M5NRxjVf6K"
      }
    },
    {
      "cell_type": "markdown",
      "source": [
        "### 2) How has review count changed over the years?\n"
      ],
      "metadata": {
        "id": "_nFOhXSjvmPd"
      }
    },
    {
      "cell_type": "code",
      "source": [
        "spark.sql(\"\"\"\n",
        "SELECT SUBSTR(Year_Month, 1, 4) AS Year, COUNT(*) AS Review_Count\n",
        "FROM reviews\n",
        "WHERE Year_Month != 'missing'\n",
        "GROUP BY Year\n",
        "ORDER BY Year\n",
        "\"\"\").show()"
      ],
      "metadata": {
        "colab": {
          "base_uri": "https://localhost:8080/"
        },
        "id": "9nu_k9xBVJKT",
        "outputId": "a12c7c4a-87d9-4fd3-f47b-488a1627b6e8"
      },
      "execution_count": 24,
      "outputs": [
        {
          "output_type": "stream",
          "name": "stdout",
          "text": [
            "+----+------------+\n",
            "|Year|Review_Count|\n",
            "+----+------------+\n",
            "|2010|         143|\n",
            "|2011|        1984|\n",
            "|2012|        4342|\n",
            "|2013|        4717|\n",
            "|2014|        5301|\n",
            "|2015|        6979|\n",
            "|2016|        6599|\n",
            "|2017|        5195|\n",
            "|2018|        3997|\n",
            "|2019|         786|\n",
            "+----+------------+\n",
            "\n"
          ]
        }
      ]
    },
    {
      "cell_type": "markdown",
      "source": [
        "The review count for Disneyland branches has fluctuated significantly over the years. Starting with only 143 reviews in 2010, there was a sharp increase to 1,984 reviews in 2011, followed by continued growth, peaking at 6,979 reviews in 2015. After 2015, review counts began to decline, with 6,599 reviews in 2016, 5,195 in 2017, and 3,997 in 2018. The drop became even more pronounced in 2019, with only 786 reviews recorded. This trend may reflect changes in visitor engagement, external factors such as park developments or promotions, or broader industry influences like shifts in travel patterns or the emergence of new review platforms.\n",
        "\n"
      ],
      "metadata": {
        "id": "8476Gn0Ov3ub"
      }
    },
    {
      "cell_type": "markdown",
      "source": [
        "### 3) Find the top 5 most common reviewer locations\n"
      ],
      "metadata": {
        "id": "Y-72rnmUwjb9"
      }
    },
    {
      "cell_type": "code",
      "source": [
        "spark.sql(\"\"\"\n",
        "SELECT Reviewer_Location, COUNT(*) as Review_Count\n",
        "FROM reviews\n",
        "GROUP BY Reviewer_Location\n",
        "ORDER BY Review_Count DESC\n",
        "LIMIT 5\n",
        "\"\"\").show()"
      ],
      "metadata": {
        "colab": {
          "base_uri": "https://localhost:8080/"
        },
        "id": "-foeW28-VzmW",
        "outputId": "220bbe37-7d8d-45a8-acdc-d36b7a2833d9"
      },
      "execution_count": 25,
      "outputs": [
        {
          "output_type": "stream",
          "name": "stdout",
          "text": [
            "+-----------------+------------+\n",
            "|Reviewer_Location|Review_Count|\n",
            "+-----------------+------------+\n",
            "|    United States|       14551|\n",
            "|   United Kingdom|        9751|\n",
            "|        Australia|        4679|\n",
            "|           Canada|        2235|\n",
            "|            India|        1511|\n",
            "+-----------------+------------+\n",
            "\n"
          ]
        }
      ]
    },
    {
      "cell_type": "markdown",
      "source": [
        "The analysis of the most common reviewer locations reveals that the United States dominates with the highest number of reviews, totaling 14,551. This is followed by the United Kingdom with 9,751 reviews, indicating a strong presence of reviewers from the UK as well. Australia ranks third with 4,679 reviews, showing a significant but smaller contribution compared to the US and UK. Canada and India round out the top five, with 2,235 and 1,511 reviews, respectively. This suggests that the majority of reviews come from English-speaking countries, with a noticeable international reach extending to places like Canada and India."
      ],
      "metadata": {
        "id": "brlL8QzuxcWF"
      }
    },
    {
      "cell_type": "markdown",
      "source": [
        "### 4) Which months have higher review volumes?"
      ],
      "metadata": {
        "id": "1Bfi-mNNz7La"
      }
    },
    {
      "cell_type": "code",
      "source": [
        "spark.sql(\"\"\"\n",
        "SELECT\n",
        "    CAST(\n",
        "        IF(LENGTH(SUBSTR(Year_Month, 6, 2)) = 1, SUBSTR(Year_Month, 6, 1), SUBSTR(Year_Month, 6, 2))\n",
        "        AS INT\n",
        "    ) AS Month,\n",
        "    COUNT(*) AS Review_Count\n",
        "FROM reviews\n",
        "WHERE Year_Month != 'missing'\n",
        "GROUP BY Month\n",
        "ORDER BY Month\n",
        "\"\"\").show()"
      ],
      "metadata": {
        "colab": {
          "base_uri": "https://localhost:8080/"
        },
        "id": "JzbuiLVHY8O2",
        "outputId": "35e66c57-7a1f-4547-d039-108fdfcdbd35"
      },
      "execution_count": 26,
      "outputs": [
        {
          "output_type": "stream",
          "name": "stdout",
          "text": [
            "+-----+------------+\n",
            "|Month|Review_Count|\n",
            "+-----+------------+\n",
            "|    1|        2516|\n",
            "|    2|        2459|\n",
            "|    3|        3134|\n",
            "|    4|        3478|\n",
            "|    5|        3439|\n",
            "|    6|        3590|\n",
            "|    7|        3880|\n",
            "|    8|        3994|\n",
            "|    9|        3230|\n",
            "|   10|        3764|\n",
            "|   11|        2685|\n",
            "|   12|        3874|\n",
            "+-----+------------+\n",
            "\n"
          ]
        }
      ]
    },
    {
      "cell_type": "markdown",
      "source": [
        "The months with higher review volumes are typically those in the middle of the year. August stands out with the highest review count at 3,994, followed closely by July with 3,880 reviews. These summer months likely see an increase in visitors, contributing to more reviews. Additionally, December also has a high review volume, with 3,874 reviews, possibly due to holiday visits and end-of-year travel. Other months with relatively high volumes include October (3,764) and June (3,590). These months suggest that peak tourist seasons, including summer and holidays, generate the most review activity."
      ],
      "metadata": {
        "id": "FMzlFgoqzu5j"
      }
    },
    {
      "cell_type": "markdown",
      "source": [
        "### 5) What is the review count for each rating?"
      ],
      "metadata": {
        "id": "2MHUvZOQ0bOg"
      }
    },
    {
      "cell_type": "code",
      "source": [
        "spark.sql(\"\"\"\n",
        "SELECT Rating, COUNT(*) AS Review_Count\n",
        "FROM reviews\n",
        "WHERE Year_Month != 'missing'\n",
        "GROUP BY Rating\n",
        "ORDER BY Rating\n",
        "\"\"\").show()"
      ],
      "metadata": {
        "colab": {
          "base_uri": "https://localhost:8080/"
        },
        "id": "VlDsC-ZoZ1qB",
        "outputId": "4adeb60f-2ea6-429d-b048-174499570a15"
      },
      "execution_count": 27,
      "outputs": [
        {
          "output_type": "stream",
          "name": "stdout",
          "text": [
            "+------+------------+\n",
            "|Rating|Review_Count|\n",
            "+------+------------+\n",
            "|     1|        1338|\n",
            "|     2|        1929|\n",
            "|     3|        4782|\n",
            "|     4|       10086|\n",
            "|     5|       21908|\n",
            "+------+------------+\n",
            "\n"
          ]
        }
      ]
    },
    {
      "cell_type": "markdown",
      "source": [
        "The review count analysis for each rating shows a clear trend towards more positive feedback from reviewers. The 5-star rating stands out significantly with 21,908 reviews, which is by far the highest, indicating that the majority of visitors had a highly positive experience. 4-star ratings also show strong satisfaction, with 10,086 reviews, though it is still considerably lower than the 5-star count. On the other hand, 3-star ratings have 4,782 reviews, reflecting a more neutral sentiment but still showing a significant portion of the feedback. The 2-star and 1-star ratings are much lower, with 1,929 and 1,338 reviews, respectively, suggesting that negative experiences are much less common. This data implies that while most visitors are satisfied with their experiences, there are still some who provide more critical feedback, particularly in the lower ratings."
      ],
      "metadata": {
        "id": "7NcgZ2pS0wmO"
      }
    },
    {
      "cell_type": "markdown",
      "source": [
        "### 6) What percentage of reviews mention food and what is the average rating for those reviews?"
      ],
      "metadata": {
        "id": "NhJXPwM50z7c"
      }
    },
    {
      "cell_type": "code",
      "source": [
        "spark.sql(\"\"\"\n",
        "SELECT\n",
        "    Branch,\n",
        "    ROUND((COUNT(IF(LOWER(Review_Text) LIKE '%food%', 1, NULL)) / COUNT(*)) * 100, 2) AS Percentage_Food_Mentions,\n",
        "    ROUND(AVG(Rating), 2) AS Average_Rating\n",
        "FROM reviews\n",
        "WHERE Year_Month != 'missing'\n",
        "GROUP BY Branch\n",
        "\"\"\").show()"
      ],
      "metadata": {
        "colab": {
          "base_uri": "https://localhost:8080/"
        },
        "id": "AHY1d84ceBo_",
        "outputId": "1b3597c2-34ff-46d2-e1a8-b91c88b3b2da"
      },
      "execution_count": 28,
      "outputs": [
        {
          "output_type": "stream",
          "name": "stdout",
          "text": [
            "+--------------------+------------------------+--------------+\n",
            "|              Branch|Percentage_Food_Mentions|Average_Rating|\n",
            "+--------------------+------------------------+--------------+\n",
            "| Disneyland_HongKong|                   26.42|          4.22|\n",
            "|Disneyland_Califo...|                   18.71|          4.41|\n",
            "|    Disneyland_Paris|                   32.67|          3.98|\n",
            "+--------------------+------------------------+--------------+\n",
            "\n"
          ]
        }
      ]
    },
    {
      "cell_type": "markdown",
      "source": [
        "The analysis of reviews mentioning food shows differing trends across the three Disneyland branches. Disneyland Paris has the highest percentage of food-related mentions, with 32.67% of reviews touching on food. However, the average rating for these reviews is relatively low at 3.98, suggesting that the food experience in Paris might not meet visitors' expectations as well as other aspects of the park. In contrast, Disneyland Hong Kong has 26.42% of reviews mentioning food, with an average rating of 4.22, indicating that while food is frequently discussed, it generally receives more positive feedback than in Paris. Disneyland California has the lowest percentage of food-related reviews at 18.71%, but those reviews carry the highest average rating of 4.41, showing that when food is mentioned, it tends to be a more positively reviewed aspect of the experience. Overall, Disneyland California stands out for providing a more favorable food experience, while Disneyland Paris has more food-related feedback but with lower satisfaction."
      ],
      "metadata": {
        "id": "4rad-sCi2jbu"
      }
    },
    {
      "cell_type": "markdown",
      "source": [
        "### 7) What percentage of reviews mention a line and what is the average rating for those reviews?"
      ],
      "metadata": {
        "id": "YaCuWE_730Yf"
      }
    },
    {
      "cell_type": "code",
      "source": [
        "spark.sql(\"\"\"\n",
        "SELECT\n",
        "    Branch,\n",
        "    ROUND((COUNT(IF(LOWER(Review_Text) LIKE '%line%', 1, NULL)) / COUNT(*)) * 100, 2) AS Percentage_Line_Mentions,\n",
        "    ROUND(AVG(Rating), 2) AS Average_Rating\n",
        "FROM reviews\n",
        "WHERE Year_Month != 'missing'\n",
        "GROUP BY Branch\n",
        "\"\"\").show()"
      ],
      "metadata": {
        "colab": {
          "base_uri": "https://localhost:8080/"
        },
        "id": "ds5dWonveuxx",
        "outputId": "58b22e44-71d0-4529-fc58-4cbd22eafab3"
      },
      "execution_count": 29,
      "outputs": [
        {
          "output_type": "stream",
          "name": "stdout",
          "text": [
            "+--------------------+------------------------+--------------+\n",
            "|              Branch|Percentage_Line_Mentions|Average_Rating|\n",
            "+--------------------+------------------------+--------------+\n",
            "| Disneyland_HongKong|                   18.42|          4.22|\n",
            "|Disneyland_Califo...|                   31.66|          4.41|\n",
            "|    Disneyland_Paris|                    16.2|          3.98|\n",
            "+--------------------+------------------------+--------------+\n",
            "\n"
          ]
        }
      ]
    },
    {
      "cell_type": "markdown",
      "source": [
        "The analysis of reviews mentioning lines reveals key differences between the three Disneyland branches. Disneyland California has the highest percentage of reviews mentioning lines, with 31.66% of reviews discussing wait times. Despite the higher frequency of these mentions, the average rating for these reviews is 4.41, indicating that visitors, while acknowledging the lines, are generally satisfied with their experiences overall. Disneyland Hong Kong follows with 18.42% of reviews mentioning lines, and these reviews have an average rating of 4.22, suggesting that although lines are a concern, they do not significantly detract from the overall visitor experience. Disneyland Paris has the lowest percentage of line-related mentions at 16.2%, and the average rating for these reviews is 3.98, which is the lowest among the three branches. This suggests that while lines are less frequently discussed, they tend to result in more negative feedback compared to the other locations. In conclusion, while lines are a common point of discussion, visitors in Disneyland California appear the most forgiving of wait times, whereas Disneyland Paris has a higher level of dissatisfaction with lines."
      ],
      "metadata": {
        "id": "gOzBV8Y94D8w"
      }
    },
    {
      "cell_type": "markdown",
      "source": [
        "### 8) What percentage of reviews for each branch have a rating higher than the average rating of all reviews?"
      ],
      "metadata": {
        "id": "mDMhhHap6exo"
      }
    },
    {
      "cell_type": "code",
      "source": [
        "spark.sql(\"\"\"\n",
        "SELECT\n",
        "    Branch,\n",
        "    ROUND(\n",
        "        (COUNT(IF(Rating > (SELECT AVG(Rating) FROM reviews WHERE Year_Month != 'missing'), 1, NULL)) / COUNT(*)) * 100,\n",
        "        2\n",
        "    ) AS Percentage_Higher_Than_Avg\n",
        "FROM reviews\n",
        "WHERE Year_Month != 'missing'\n",
        "GROUP BY Branch\n",
        "\"\"\").show()"
      ],
      "metadata": {
        "colab": {
          "base_uri": "https://localhost:8080/"
        },
        "id": "L1q4PgFf4ju5",
        "outputId": "a09b1862-675d-4906-fbc4-ea6083b57c76"
      },
      "execution_count": 30,
      "outputs": [
        {
          "output_type": "stream",
          "name": "stdout",
          "text": [
            "+--------------------+--------------------------+\n",
            "|              Branch|Percentage_Higher_Than_Avg|\n",
            "+--------------------+--------------------------+\n",
            "| Disneyland_HongKong|                     47.43|\n",
            "|Disneyland_Califo...|                     64.84|\n",
            "|    Disneyland_Paris|                     45.44|\n",
            "+--------------------+--------------------------+\n",
            "\n"
          ]
        }
      ]
    },
    {
      "cell_type": "markdown",
      "source": [
        "The data shows that Disneyland California has the highest percentage of reviews above the average rating at 64.84%, indicating that a significant portion of visitors had positive experiences and rated their visit highly. Disneyland Hong Kong follows with 47.43%, suggesting that slightly less than half of its reviews were above the average, implying a more balanced mix of positive and neutral feedback. Disneyland Paris has the lowest percentage at 45.44%, indicating that fewer reviews surpass the average rating, which might reflect a higher degree of customer dissatisfaction or less frequent exceptional experiences. The differences in these percentages could be indicative of varying customer satisfaction levels and experiences at each location, with Disneyland California likely benefiting from a stronger positive perception compared to the other two branches."
      ],
      "metadata": {
        "id": "uaHNGSMgD3_k"
      }
    },
    {
      "cell_type": "markdown",
      "source": [
        "### 9) What is the average rating and the average review length for each branch?\n",
        "\n"
      ],
      "metadata": {
        "id": "oYAonxnP_PE3"
      }
    },
    {
      "cell_type": "code",
      "source": [
        "spark.sql(\"\"\"\n",
        "SELECT\n",
        "    Branch,\n",
        "    ROUND(AVG(Rating), 2) AS Average_Rating,\n",
        "    ROUND(AVG(LENGTH(Review_Text)), 2) AS Average_Review_Length\n",
        "FROM reviews\n",
        "WHERE Year_Month != 'missing'\n",
        "GROUP BY Branch\n",
        "\"\"\").show()"
      ],
      "metadata": {
        "colab": {
          "base_uri": "https://localhost:8080/"
        },
        "id": "y2TtxXQb8Zzw",
        "outputId": "e7a1f3c0-5f6a-4d66-901f-1190ee3a3bd4"
      },
      "execution_count": 31,
      "outputs": [
        {
          "output_type": "stream",
          "name": "stdout",
          "text": [
            "+--------------------+--------------+---------------------+\n",
            "|              Branch|Average_Rating|Average_Review_Length|\n",
            "+--------------------+--------------+---------------------+\n",
            "| Disneyland_HongKong|          4.22|               542.84|\n",
            "|Disneyland_Califo...|          4.41|               607.54|\n",
            "|    Disneyland_Paris|          3.98|               877.91|\n",
            "+--------------------+--------------+---------------------+\n",
            "\n"
          ]
        }
      ]
    },
    {
      "cell_type": "markdown",
      "source": [
        "Disneyland California stands out with the highest average rating of 4.41, indicating a generally positive sentiment from customers. However, its average review length of 607.54 characters suggests that while reviews are somewhat detailed, they are not as lengthy as those from Disneyland Paris. Disneyland Hong Kong, with a rating of 4.22, also shows a relatively positive reception, but its reviews are the shortest at 542.84 characters, possibly indicating more concise feedback from visitors. On the other hand, Disneyland Paris has the lowest average rating of 3.98, which could suggest customer dissatisfaction, and the longest reviews at 877.91 characters. This combination of lower ratings and longer reviews might indicate that customers tend to provide more extensive feedback when they are dissatisfied or have specific comments to make. The variance in review length across the branches suggests that factors like customer expectations, experiences, and cultural differences may influence the depth of feedback provided."
      ],
      "metadata": {
        "id": "-qtA7pn1BFFb"
      }
    },
    {
      "cell_type": "markdown",
      "source": [
        "### 10) Is there a correlation between the length of reviews and the ratings given by customers?\n",
        "\n"
      ],
      "metadata": {
        "id": "h628650i_4ps"
      }
    },
    {
      "cell_type": "code",
      "source": [
        "spark.sql(\"\"\"\n",
        "SELECT\n",
        "    Branch,\n",
        "    ROUND(CORR(LENGTH(Review_Text), Rating), 2) AS Review_Length_Rating_Correlation\n",
        "FROM reviews\n",
        "WHERE Year_Month != 'missing'\n",
        "GROUP BY Branch\n",
        "\"\"\").show()"
      ],
      "metadata": {
        "colab": {
          "base_uri": "https://localhost:8080/"
        },
        "id": "xaajgOFj5wsh",
        "outputId": "a7004a28-7c9e-41d6-ee47-dfafe6ca16c6"
      },
      "execution_count": 32,
      "outputs": [
        {
          "output_type": "stream",
          "name": "stdout",
          "text": [
            "+--------------------+--------------------------------+\n",
            "|              Branch|Review_Length_Rating_Correlation|\n",
            "+--------------------+--------------------------------+\n",
            "| Disneyland_HongKong|                           -0.03|\n",
            "|Disneyland_Califo...|                           -0.17|\n",
            "|    Disneyland_Paris|                           -0.16|\n",
            "+--------------------+--------------------------------+\n",
            "\n"
          ]
        }
      ]
    },
    {
      "cell_type": "markdown",
      "source": [
        "The correlation between review length and rating across the three Disneyland branches is weak and negative. Disneyland Hong Kong shows a correlation of -0.03, indicating almost no relationship between review length and ratings. Disneyland California and Disneyland Paris show correlations of -0.17 and -0.16, respectively, suggesting a weak negative relationship where slightly longer reviews tend to have lower ratings. However, the correlations are weak overall, indicating that review length has little influence on ratings, with other factors likely playing a more significant role."
      ],
      "metadata": {
        "id": "ksmoHe4tAjOZ"
      }
    }
  ]
}